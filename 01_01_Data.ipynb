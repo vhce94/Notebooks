{
 "cells": [
  {
   "attachments": {},
   "cell_type": "markdown",
   "metadata": {},
   "source": [
    "<img src=\"images/maintenance.jpg\" width=\"1300\"  height = \"250\" style=\"margin:0 auto;clear:both\">\n",
    "\n",
    "***Victor Hugo Cruz Espinoza, proyecto final***\n",
    "___\n",
    "\n",
    "# **GENERACIÓN DE MODELOS DE MACHINE LEARNING PARA APLICACIONES DE PREDICCIÓN DE ESTADOS DE FALLA EN TRANSFORMADORES DE DISTRIBUCIÓN** \n",
    "___"
   ]
  },
  {
   "attachments": {},
   "cell_type": "markdown",
   "metadata": {},
   "source": [
    "## ACERCA DEL CONJUNTO DE DATOS\n",
    "\n",
    "<p align = \"center\">\n",
    "<img src=\"images/trafo.jpg\" width=\"500\" style=\"margin:0 auto;clear:both\">\n",
    "</p>"
   ]
  },
  {
   "attachments": {},
   "cell_type": "markdown",
   "metadata": {},
   "source": [
    "## Fuente"
   ]
  },
  {
   "attachments": {},
   "cell_type": "markdown",
   "metadata": {},
   "source": [
    "El conjunto de datos 1 empleado para el proyecto, fueron recopilados por el operador de la red (Compañía energética de Occidente) en el departamento del Cauca (Colombia), en colaboración con la Universidad del Cauca y la Universidad del Valle. Este dataset es abierto para su uso en proyectos de Ciencia de Datos en el siguiente enlace: https://www.sciencedirect.com/science/article/pii/S2352340921007368?via%3Dihub\n",
    "El dataset 2 corresponde a la plataforma kaggle: https://www.kaggle.com/datasets/sreshta140/ai-transformer-monitoring \n"
   ]
  },
  {
   "attachments": {},
   "cell_type": "markdown",
   "metadata": {},
   "source": [
    "## Información del conjunto de datos 1"
   ]
  },
  {
   "attachments": {},
   "cell_type": "markdown",
   "metadata": {},
   "source": [
    "* Los datos proporcionan una recopilación de las características de los transformadores de distribución de energía eléctrica en el departamento del Cauca (Colombia).\n",
    "\n",
    "* El conjunto de datos podría ser útil para los investigadores y científicos de datos que estudian el mantenimiento predictivo mediante algoritmos de aprendizaje automático.\n",
    "\n",
    "* El conjunto de datos es adecuado para modelos de clasificación y regresión mediante algoritmos de aprendizaje automático."
   ]
  },
  {
   "attachments": {},
   "cell_type": "markdown",
   "metadata": {},
   "source": [
    "## Información de atributos"
   ]
  },
  {
   "attachments": {},
   "cell_type": "markdown",
   "metadata": {},
   "source": [
    "El archivo tiene 16 columnas con la información de las características de los transformadores de distribución durante el año 2019, las columnas en orden ascendente son:\n",
    "\n",
    "* Ubicación: Variable binaria que indica la zona en la que se ubica el transformador: 1 si es urbana y 0 si es rural.\n",
    "\n",
    "* Potencia: Capacidad del transformador en [kVA]. Para transformadores sumergidos en aceite la norma IEC 76-1 establece como condiciones normales de servicio una altitud sobre el nivel del mar no superior a 1000 [m] y una temperatura ambiente superior ay menos que.\n",
    "\n",
    "* Autoprotección: Variable binaria que indica si el transformador dispone internamente de interruptor para protección de baja tensión: 1 si está autoprotegido y 0 si no lo está.\n",
    "\n",
    "* Densidad media de descarga a tierra DDT: Variable ense define como el número medio de rayos por kilómetro cuadrado en un año.\n",
    "\n",
    "* Densidad máxima de descarga al suelo DDT: Variable ense define como el número máximo de rayos por kilómetro cuadrado en un año.\n",
    "\n",
    "* Burning rate: Variable basada en la confiabilidad del sistema y calculada a partir de los eventos de falla registrados en los años de estudio. Se define como el número de fallas de un componente por unidad de tiempo de registro.\n",
    "\n",
    "* Criticidad según estudio previo para nivel cerámico: Variable binaria producto del resultado de un estudio previo realizado para la distribuidora por terceros: 1 si por su ubicación geográfica es de alto riesgo y 0 en caso contrario no presenta alto riesgo.\n",
    "\n",
    "* Conectores extraíbles: Variable binaria que indica si la instalación del transformador dispone de conectores extraíbles de media tensión para realizar intervenciones sin necesidad de abrir desde el seccionador inmediatamente aguas arriba: 1 si tiene instalados los conectores extraíbles y 0 si no los tiene.\n",
    "\n",
    "* Tipo de clientes: Variable categórica que indica si el transformador alimenta principalmente a usuarios de estrato 1, 2, 3, 4, 5, 6, comerciales, industriales o residenciales oficiales.\n",
    "\n",
    "* Número de usuarios: Variable entera que indica a cuántos clientes el transformador en cuestión está suministrando el servicio de energía eléctrica.\n",
    "\n",
    "* Energía eléctrica no suministrada EENS: Variable basada en el riesgo que implica la falla, representa los [kWh] que la empresa distribuidora deja de vender cuando el transformador deja de operar por un evento de falla.\n",
    "\n",
    "* Tipo de instalación: Variable categórica que indica si el transformador instalado es en cabina, en estructura tipo H, si tiene macro con red antifraude, si es tipo pad, si es en simple estructura tipo poste, poste de red antifraude, torre metálica u otros.\n",
    "\n",
    "* Red aérea: Variable binaria que indica si la red de baja tensión de los transformadores es del tipo aérea: 1 si lo es y 0 en caso contrario.\n",
    "\n",
    "* Cola del Circuito: Variable binaria que indica si el transformador está ubicado dentro de la red de media tensión en un punto terminal del circuito: 1 si está en la cola y 0 si está en un punto de paso.\n",
    "\n",
    "\n",
    "* km de red LT: Variable continua que corresponde a la longitud en [km] del transformador de baja tensión.\n",
    "\n",
    "* Transformadores quemados: Variable binaria que indica si el transformador se ha quemado durante este año: 1 si se quema y 0 en caso contrario."
   ]
  },
  {
   "attachments": {},
   "cell_type": "markdown",
   "metadata": {},
   "source": [
    "## Información del conjunto de datos 2"
   ]
  },
  {
   "attachments": {},
   "cell_type": "markdown",
   "metadata": {},
   "source": [
    "## Información de atributos"
   ]
  },
  {
   "attachments": {},
   "cell_type": "markdown",
   "metadata": {},
   "source": [
    "Descripción general:\n",
    "\n",
    "*\tOTI: Indicador de temperatura del aceite.\n",
    "\n",
    "*\tWTI: Indicador de temperatura del devanado.\n",
    "\n",
    "*\tATI: Indicador de temperatura ambiente.\n",
    "\n",
    "*\tOLI: Indicador de nivel de aceite.\n",
    "\n",
    "*\tATIA: Alarma del indicador de temperatura del aceite.\n",
    "\n",
    "*\tOTIT: Disparo del indicador de temperatura del aceite.\n",
    "\n",
    "*\tMOG_A: Indicador de aceite magnético.\n",
    "\n",
    "Corriente y voltaje:\n",
    "\n",
    "*\tVL1: Voltaje de fase 1.\n",
    "\n",
    "*\tVL2: Voltaje de fase 2.\n",
    "\n",
    "*\tVL3: Voltaje de fase 3.\n",
    "\n",
    "*\tIL1: Corriente de línea 1.\n",
    "\n",
    "*\tIL2: Corriente de línea 2.\n",
    "\n",
    "*\tIL3: Corriente de línea 3.\n",
    "\n",
    "*\tVL12: Voltaje de línea 1-2\n",
    "\n",
    "*\tVL23: Voltaje de línea 2-3\n",
    "\n",
    "*\tVL31: Voltaje de línea 3-1\n",
    "\n",
    "*\tINUT: Corriente de neutro\n",
    "\n"
   ]
  }
 ],
 "metadata": {
  "kernelspec": {
   "display_name": "Python 3",
   "language": "python",
   "name": "python3"
  },
  "language_info": {
   "codemirror_mode": {
    "name": "ipython",
    "version": 3
   },
   "file_extension": ".py",
   "mimetype": "text/x-python",
   "name": "python",
   "nbconvert_exporter": "python",
   "pygments_lexer": "ipython3",
   "version": "3.10.5"
  },
  "orig_nbformat": 4,
  "vscode": {
   "interpreter": {
    "hash": "7cb176315d1b334180b6af9fe4839184c771682056334f245fd0d7c99b98cf46"
   }
  }
 },
 "nbformat": 4,
 "nbformat_minor": 2
}
