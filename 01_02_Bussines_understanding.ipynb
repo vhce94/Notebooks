{
 "cells": [
  {
   "attachments": {},
   "cell_type": "markdown",
   "metadata": {},
   "source": [
    "# Comprensión del negocio"
   ]
  },
  {
   "attachments": {},
   "cell_type": "markdown",
   "metadata": {},
   "source": [
    "**Valoración de la situación**\n",
    "\n",
    "El principal objetivo de las empresas que conforman el sector eléctrico, es ofrecer mayores niveles de confiabilidad y seguridad, para brindar continuidad en el suministro eléctrico a todos los usuarios; sin embargo la mayor presión de servicio lo reciben las empresas dedicadas a la distribución de energía eléctrica, estos deben garantizar el correcto funcionamiento de todos sus equipos que conforman la red de distribución, así evitar costos por energía no suministrada, costos por reemplazo de equipos, penalizaciones y generar pérdidas económicas a los usuarios.\n",
    "\n",
    "**Objetivo desde una perspectiva del sector energético**\n",
    "\n",
    "El objetivo del negocio yace en la optimización de los procesos de detección de estados de falla para una correcta planificación de tareas preventivas de los transformadores de distribución, así garantizar el correcto funcionamiento de las máquinas que intervienen en la distribución de energía eléctrica.   \n",
    "\n",
    "**Objetivo desde una perspectiva de ciencia de datos**\n",
    "\n",
    "El objetivo es diseñar dos modelos de machine learning capaces de predecir cuándo un transformador entrará en estado de falla por quema y cuando se disparará la alarma del indicador de aceite magnético (MOG).\n"
   ]
  },
  {
   "attachments": {},
   "cell_type": "markdown",
   "metadata": {},
   "source": [
    "### Objetivos"
   ]
  },
  {
   "attachments": {},
   "cell_type": "markdown",
   "metadata": {},
   "source": [
    "*  Aplicar algoritmos de machine learnig para generar modelos capaces de predecir un estado de falla en transformadores de distribución, aplicando la metodología CRISP-DM orientada a Ciencia de datos.\n",
    "\n",
    "*  Realizar un análisis comparativo entre todos los modelos entrenados, seleccionar el algoritmo más eficiente para cada modelo e implementar el modelo final.\n",
    "\n",
    "*  Realizar un testeo de los modelos predictivos para plantear su funcionalidad e implantación en sistemas de detección de fallas y planificación de tareas preventivas.\n",
    "\n"
   ]
  }
 ],
 "metadata": {
  "kernelspec": {
   "display_name": "Python 3",
   "language": "python",
   "name": "python3"
  },
  "language_info": {
   "name": "python",
   "version": "3.10.5"
  },
  "orig_nbformat": 4,
  "vscode": {
   "interpreter": {
    "hash": "7cb176315d1b334180b6af9fe4839184c771682056334f245fd0d7c99b98cf46"
   }
  }
 },
 "nbformat": 4,
 "nbformat_minor": 2
}
